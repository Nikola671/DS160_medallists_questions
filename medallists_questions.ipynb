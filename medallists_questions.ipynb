{
 "cells": [
  {
   "cell_type": "markdown",
   "id": "91897254-5948-40f3-9e91-f60161871296",
   "metadata": {},
   "source": [
    "# 2024 Olymptic Medelist Dataset"
   ]
  },
  {
   "cell_type": "markdown",
   "id": "865bc8c9",
   "metadata": {},
   "source": [
    "## 1. How many unique countries are represented in the dataset?\n",
    "*Hint: Use the `unique()` or `nunique()` function on the `country` or `country_long` column.*"
   ]
  },
  {
   "cell_type": "code",
   "execution_count": 1,
   "id": "b5228809-5c1a-4b54-a231-c642ea435d24",
   "metadata": {},
   "outputs": [],
   "source": [
    "import pandas as pd"
   ]
  },
  {
   "cell_type": "code",
   "execution_count": 2,
   "id": "4148a781-a96a-48d0-90ea-5690920968e7",
   "metadata": {},
   "outputs": [
    {
     "data": {
      "text/html": [
       "<div>\n",
       "<style scoped>\n",
       "    .dataframe tbody tr th:only-of-type {\n",
       "        vertical-align: middle;\n",
       "    }\n",
       "\n",
       "    .dataframe tbody tr th {\n",
       "        vertical-align: top;\n",
       "    }\n",
       "\n",
       "    .dataframe thead th {\n",
       "        text-align: right;\n",
       "    }\n",
       "</style>\n",
       "<table border=\"1\" class=\"dataframe\">\n",
       "  <thead>\n",
       "    <tr style=\"text-align: right;\">\n",
       "      <th></th>\n",
       "      <th>medal_date</th>\n",
       "      <th>medal_type</th>\n",
       "      <th>medal_code</th>\n",
       "      <th>name</th>\n",
       "      <th>gender</th>\n",
       "      <th>country_code</th>\n",
       "      <th>country</th>\n",
       "      <th>country_long</th>\n",
       "      <th>nationality_code</th>\n",
       "      <th>nationality</th>\n",
       "      <th>...</th>\n",
       "      <th>team</th>\n",
       "      <th>team_gender</th>\n",
       "      <th>discipline</th>\n",
       "      <th>event</th>\n",
       "      <th>event_type</th>\n",
       "      <th>url_event</th>\n",
       "      <th>birth_date</th>\n",
       "      <th>code_athlete</th>\n",
       "      <th>code_team</th>\n",
       "      <th>is_medallist</th>\n",
       "    </tr>\n",
       "  </thead>\n",
       "  <tbody>\n",
       "    <tr>\n",
       "      <th>0</th>\n",
       "      <td>2024-07-27</td>\n",
       "      <td>Gold Medal</td>\n",
       "      <td>1.0</td>\n",
       "      <td>EVENEPOEL Remco</td>\n",
       "      <td>Male</td>\n",
       "      <td>BEL</td>\n",
       "      <td>Belgium</td>\n",
       "      <td>Belgium</td>\n",
       "      <td>BEL</td>\n",
       "      <td>Belgium</td>\n",
       "      <td>...</td>\n",
       "      <td>NaN</td>\n",
       "      <td>NaN</td>\n",
       "      <td>Cycling Road</td>\n",
       "      <td>Men's Individual Time Trial</td>\n",
       "      <td>ATH</td>\n",
       "      <td>/en/paris-2024/results/cycling-road/men-s-indi...</td>\n",
       "      <td>2000-01-25</td>\n",
       "      <td>1903136</td>\n",
       "      <td>NaN</td>\n",
       "      <td>True</td>\n",
       "    </tr>\n",
       "    <tr>\n",
       "      <th>1</th>\n",
       "      <td>2024-07-27</td>\n",
       "      <td>Silver Medal</td>\n",
       "      <td>2.0</td>\n",
       "      <td>GANNA Filippo</td>\n",
       "      <td>Male</td>\n",
       "      <td>ITA</td>\n",
       "      <td>Italy</td>\n",
       "      <td>Italy</td>\n",
       "      <td>ITA</td>\n",
       "      <td>Italy</td>\n",
       "      <td>...</td>\n",
       "      <td>NaN</td>\n",
       "      <td>NaN</td>\n",
       "      <td>Cycling Road</td>\n",
       "      <td>Men's Individual Time Trial</td>\n",
       "      <td>ATH</td>\n",
       "      <td>/en/paris-2024/results/cycling-road/men-s-indi...</td>\n",
       "      <td>1996-07-25</td>\n",
       "      <td>1923520</td>\n",
       "      <td>NaN</td>\n",
       "      <td>True</td>\n",
       "    </tr>\n",
       "    <tr>\n",
       "      <th>2</th>\n",
       "      <td>2024-07-27</td>\n",
       "      <td>Bronze Medal</td>\n",
       "      <td>3.0</td>\n",
       "      <td>van AERT Wout</td>\n",
       "      <td>Male</td>\n",
       "      <td>BEL</td>\n",
       "      <td>Belgium</td>\n",
       "      <td>Belgium</td>\n",
       "      <td>BEL</td>\n",
       "      <td>Belgium</td>\n",
       "      <td>...</td>\n",
       "      <td>NaN</td>\n",
       "      <td>NaN</td>\n",
       "      <td>Cycling Road</td>\n",
       "      <td>Men's Individual Time Trial</td>\n",
       "      <td>ATH</td>\n",
       "      <td>/en/paris-2024/results/cycling-road/men-s-indi...</td>\n",
       "      <td>1994-09-15</td>\n",
       "      <td>1903147</td>\n",
       "      <td>NaN</td>\n",
       "      <td>True</td>\n",
       "    </tr>\n",
       "    <tr>\n",
       "      <th>3</th>\n",
       "      <td>2024-07-27</td>\n",
       "      <td>Gold Medal</td>\n",
       "      <td>1.0</td>\n",
       "      <td>BROWN Grace</td>\n",
       "      <td>Female</td>\n",
       "      <td>AUS</td>\n",
       "      <td>Australia</td>\n",
       "      <td>Australia</td>\n",
       "      <td>AUS</td>\n",
       "      <td>Australia</td>\n",
       "      <td>...</td>\n",
       "      <td>NaN</td>\n",
       "      <td>NaN</td>\n",
       "      <td>Cycling Road</td>\n",
       "      <td>Women's Individual Time Trial</td>\n",
       "      <td>ATH</td>\n",
       "      <td>/en/paris-2024/results/cycling-road/women-s-in...</td>\n",
       "      <td>1992-07-07</td>\n",
       "      <td>1940173</td>\n",
       "      <td>NaN</td>\n",
       "      <td>True</td>\n",
       "    </tr>\n",
       "    <tr>\n",
       "      <th>4</th>\n",
       "      <td>2024-07-27</td>\n",
       "      <td>Silver Medal</td>\n",
       "      <td>2.0</td>\n",
       "      <td>HENDERSON Anna</td>\n",
       "      <td>Female</td>\n",
       "      <td>GBR</td>\n",
       "      <td>Great Britain</td>\n",
       "      <td>Great Britain</td>\n",
       "      <td>GBR</td>\n",
       "      <td>Great Britain</td>\n",
       "      <td>...</td>\n",
       "      <td>NaN</td>\n",
       "      <td>NaN</td>\n",
       "      <td>Cycling Road</td>\n",
       "      <td>Women's Individual Time Trial</td>\n",
       "      <td>ATH</td>\n",
       "      <td>/en/paris-2024/results/cycling-road/women-s-in...</td>\n",
       "      <td>1998-11-14</td>\n",
       "      <td>1912525</td>\n",
       "      <td>NaN</td>\n",
       "      <td>True</td>\n",
       "    </tr>\n",
       "  </tbody>\n",
       "</table>\n",
       "<p>5 rows × 21 columns</p>\n",
       "</div>"
      ],
      "text/plain": [
       "   medal_date    medal_type  medal_code             name  gender country_code  \\\n",
       "0  2024-07-27    Gold Medal         1.0  EVENEPOEL Remco    Male          BEL   \n",
       "1  2024-07-27  Silver Medal         2.0    GANNA Filippo    Male          ITA   \n",
       "2  2024-07-27  Bronze Medal         3.0    van AERT Wout    Male          BEL   \n",
       "3  2024-07-27    Gold Medal         1.0      BROWN Grace  Female          AUS   \n",
       "4  2024-07-27  Silver Medal         2.0   HENDERSON Anna  Female          GBR   \n",
       "\n",
       "         country   country_long nationality_code    nationality  ... team  \\\n",
       "0        Belgium        Belgium              BEL        Belgium  ...  NaN   \n",
       "1          Italy          Italy              ITA          Italy  ...  NaN   \n",
       "2        Belgium        Belgium              BEL        Belgium  ...  NaN   \n",
       "3      Australia      Australia              AUS      Australia  ...  NaN   \n",
       "4  Great Britain  Great Britain              GBR  Great Britain  ...  NaN   \n",
       "\n",
       "  team_gender    discipline                          event event_type  \\\n",
       "0         NaN  Cycling Road    Men's Individual Time Trial        ATH   \n",
       "1         NaN  Cycling Road    Men's Individual Time Trial        ATH   \n",
       "2         NaN  Cycling Road    Men's Individual Time Trial        ATH   \n",
       "3         NaN  Cycling Road  Women's Individual Time Trial        ATH   \n",
       "4         NaN  Cycling Road  Women's Individual Time Trial        ATH   \n",
       "\n",
       "                                           url_event  birth_date code_athlete  \\\n",
       "0  /en/paris-2024/results/cycling-road/men-s-indi...  2000-01-25      1903136   \n",
       "1  /en/paris-2024/results/cycling-road/men-s-indi...  1996-07-25      1923520   \n",
       "2  /en/paris-2024/results/cycling-road/men-s-indi...  1994-09-15      1903147   \n",
       "3  /en/paris-2024/results/cycling-road/women-s-in...  1992-07-07      1940173   \n",
       "4  /en/paris-2024/results/cycling-road/women-s-in...  1998-11-14      1912525   \n",
       "\n",
       "   code_team is_medallist  \n",
       "0        NaN         True  \n",
       "1        NaN         True  \n",
       "2        NaN         True  \n",
       "3        NaN         True  \n",
       "4        NaN         True  \n",
       "\n",
       "[5 rows x 21 columns]"
      ]
     },
     "execution_count": 2,
     "metadata": {},
     "output_type": "execute_result"
    }
   ],
   "source": [
    "data = pd.read_csv(\"medallists.csv\")\n",
    "data.head()"
   ]
  },
  {
   "cell_type": "code",
   "execution_count": 3,
   "id": "031ad9e9",
   "metadata": {},
   "outputs": [
    {
     "data": {
      "text/plain": [
       "92"
      ]
     },
     "execution_count": 3,
     "metadata": {},
     "output_type": "execute_result"
    }
   ],
   "source": [
    "# Your code here\n",
    "len(data[\"country\"].unique())\n",
    "\n",
    "\n"
   ]
  },
  {
   "cell_type": "markdown",
   "id": "a78566bb",
   "metadata": {},
   "source": [
    "## 2. Which event had the most medalists?\n",
    "*Hint: Use `value_counts()` on the `event` column to determine the event with the highest number of medalists.*"
   ]
  },
  {
   "cell_type": "code",
   "execution_count": 4,
   "id": "57b2aee6",
   "metadata": {},
   "outputs": [
    {
     "data": {
      "text/plain": [
       "'Men'"
      ]
     },
     "execution_count": 4,
     "metadata": {},
     "output_type": "execute_result"
    }
   ],
   "source": [
    "# Your code here\n",
    "data[\"event\"].value_counts().idxmax()\n",
    "\n"
   ]
  },
  {
   "cell_type": "markdown",
   "id": "4c26c537",
   "metadata": {},
   "source": [
    "## 3. What is the gender distribution of the medalists?\n",
    "*Hint: Use `value_counts()` on the `gender` column.*"
   ]
  },
  {
   "cell_type": "code",
   "execution_count": 5,
   "id": "2c52e18a",
   "metadata": {},
   "outputs": [
    {
     "data": {
      "text/plain": [
       "gender\n",
       "Female    1162\n",
       "Male      1153\n",
       "Name: count, dtype: int64"
      ]
     },
     "execution_count": 5,
     "metadata": {},
     "output_type": "execute_result"
    }
   ],
   "source": [
    "# Your code here\n",
    "data[\"gender\"].value_counts()\n"
   ]
  },
  {
   "cell_type": "markdown",
   "id": "94d04b5b",
   "metadata": {},
   "source": [
    "## 4. How many athletes from Belgium won medals?\n",
    "*Hint: Filter on the `country_code` column with `BEL` and check the number of rows.*"
   ]
  },
  {
   "cell_type": "code",
   "execution_count": 6,
   "id": "80efb9eb",
   "metadata": {
    "scrolled": true
   },
   "outputs": [
    {
     "data": {
      "text/plain": [
       "10"
      ]
     },
     "execution_count": 6,
     "metadata": {},
     "output_type": "execute_result"
    }
   ],
   "source": [
    "# Your code here\n",
    "#data[(data.country_code==\"BEL\") & (data.is_medallist==\"TRUE\")]\n",
    "\n",
    "data_BEL = data[data.country_code=='BEL']\n",
    "len(data_BEL)"
   ]
  },
  {
   "cell_type": "markdown",
   "id": "9cf977b1",
   "metadata": {},
   "source": [
    "## 5. What is the average age of gold medalists?\n",
    "*Hint: Filter for `Gold Medal` in the `medal_type` column, and calculate the difference between `medal_date` and `birth_date`.*"
   ]
  },
  {
   "cell_type": "code",
   "execution_count": 7,
   "id": "7b5680af-2cab-4c9e-8ceb-f29d40e4a976",
   "metadata": {},
   "outputs": [],
   "source": [
    "#data.info()"
   ]
  },
  {
   "cell_type": "code",
   "execution_count": 8,
   "id": "d29d7a44",
   "metadata": {},
   "outputs": [
    {
     "name": "stderr",
     "output_type": "stream",
     "text": [
      "C:\\Users\\nikol\\AppData\\Local\\Temp\\ipykernel_30616\\4012596779.py:4: SettingWithCopyWarning: \n",
      "A value is trying to be set on a copy of a slice from a DataFrame.\n",
      "Try using .loc[row_indexer,col_indexer] = value instead\n",
      "\n",
      "See the caveats in the documentation: https://pandas.pydata.org/pandas-docs/stable/user_guide/indexing.html#returning-a-view-versus-a-copy\n",
      "  gold_medalists[\"medal_date\"]=pd.to_datetime(gold_medalists[\"medal_date\"], format = \"mixed\")\n",
      "C:\\Users\\nikol\\AppData\\Local\\Temp\\ipykernel_30616\\4012596779.py:5: SettingWithCopyWarning: \n",
      "A value is trying to be set on a copy of a slice from a DataFrame.\n",
      "Try using .loc[row_indexer,col_indexer] = value instead\n",
      "\n",
      "See the caveats in the documentation: https://pandas.pydata.org/pandas-docs/stable/user_guide/indexing.html#returning-a-view-versus-a-copy\n",
      "  gold_medalists[\"birth_date\"]=pd.to_datetime(gold_medalists[\"birth_date\"], format = \"mixed\")\n"
     ]
    },
    {
     "data": {
      "text/plain": [
       "26.993351063829788"
      ]
     },
     "execution_count": 8,
     "metadata": {},
     "output_type": "execute_result"
    }
   ],
   "source": [
    "# Your code here\n",
    "gold_medalists = data[data.medal_type == \"Gold Medal\"] \n",
    "\n",
    "gold_medalists[\"medal_date\"]=pd.to_datetime(gold_medalists[\"medal_date\"], format = \"mixed\")\n",
    "gold_medalists[\"birth_date\"]=pd.to_datetime(gold_medalists[\"birth_date\"], format = \"mixed\")\n",
    "\n",
    "\n",
    "#pd.to_datetime(\"medal_date\", format = \"mixed\").dt.year - pd.to_datetime(\"birth_date\", format = \"mixed\").dt.year\n",
    "\n",
    "data_agemean=gold_medalists[\"medal_date\"].dt.year - gold_medalists[\"birth_date\"].dt.year \n",
    "data_agemean.mean()"
   ]
  },
  {
   "cell_type": "code",
   "execution_count": 9,
   "id": "b397041d-4abd-4cec-aed2-14d1164a0f5e",
   "metadata": {},
   "outputs": [
    {
     "data": {
      "text/plain": [
       "752"
      ]
     },
     "execution_count": 9,
     "metadata": {},
     "output_type": "execute_result"
    }
   ],
   "source": [
    "len(gold_medalists)"
   ]
  },
  {
   "cell_type": "markdown",
   "id": "026d88a6",
   "metadata": {},
   "source": [
    "## 6. List the names of all athletes who won a silver medal in a cycling event.\n",
    "*Hint: Filter by `medal_type` (Silver) and `discipline` (Cycling Road), then display the `name` column.*"
   ]
  },
  {
   "cell_type": "code",
   "execution_count": 10,
   "id": "215ab6f4",
   "metadata": {},
   "outputs": [
    {
     "data": {
      "text/plain": [
       "1         GANNA Filippo\n",
       "4        HENDERSON Anna\n",
       "267    MADOUAS Valentin\n",
       "336        VOS Marianne\n",
       "Name: name, dtype: object"
      ]
     },
     "execution_count": 10,
     "metadata": {},
     "output_type": "execute_result"
    }
   ],
   "source": [
    "# Your code here\n",
    "\n",
    "data_silver = data[(data.medal_type == \"Silver Medal\") & (data.discipline == \"Cycling Road\")]\n",
    "\n",
    "#data_event = data_silver[data.discipline == \"Cycling Road\"]\n",
    "\n",
    "#data_names = data_event.lists[names]\n",
    "\n",
    "data_silver[\"name\"]"
   ]
  },
  {
   "cell_type": "markdown",
   "id": "49ee100b",
   "metadata": {},
   "source": [
    "## 7. How many events did female athletes participate in?\n",
    "*Hint: Filter on `gender` (Female) and count the unique values in the `event` column.*"
   ]
  },
  {
   "cell_type": "code",
   "execution_count": 15,
   "id": "2d092dd5",
   "metadata": {},
   "outputs": [
    {
     "data": {
      "text/plain": [
       "150"
      ]
     },
     "execution_count": 15,
     "metadata": {},
     "output_type": "execute_result"
    }
   ],
   "source": [
    "# Your code here\n",
    "data[data['gender'] == 'Female']['event'].nunique()"
   ]
  },
  {
   "cell_type": "markdown",
   "id": "5643d60e",
   "metadata": {},
   "source": [
    "## 8. Which country had the highest number of gold medals?\n",
    "*Hint: Filter for `Gold Medal` in the `medal_type` column and use `value_counts()` on the `country` column.*"
   ]
  },
  {
   "cell_type": "code",
   "execution_count": 43,
   "id": "ed09fc9e",
   "metadata": {},
   "outputs": [
    {
     "data": {
      "text/plain": [
       "country\n",
       "United States    134\n",
       "Name: count, dtype: int64"
      ]
     },
     "execution_count": 43,
     "metadata": {},
     "output_type": "execute_result"
    }
   ],
   "source": [
    "# Your code here\n",
    "gold = data[data.medal_type == \"Gold Medal\"]\n",
    "\n",
    "#gold[\"medal_type\"].value_counts()\n",
    "\n",
    "data[\"country\"]\n",
    "gold[\"medal_type\"].value_counts()\n",
    "\n",
    "gold[\"country\"].value_counts().head(1)"
   ]
  },
  {
   "cell_type": "markdown",
   "id": "f982cb2a",
   "metadata": {},
   "source": [
    "## 9. What are the top three most common disciplines for male athletes?\n",
    "*Hint: Filter by `gender` (Male) and use `value_counts()` on the `discipline` column to get the top three.*"
   ]
  },
  {
   "cell_type": "code",
   "execution_count": 32,
   "id": "3c38804f",
   "metadata": {},
   "outputs": [
    {
     "data": {
      "text/plain": [
       "discipline\n",
       "Athletics    113\n",
       "Swimming     107\n",
       "Rowing        72\n",
       "Name: count, dtype: int64"
      ]
     },
     "execution_count": 32,
     "metadata": {},
     "output_type": "execute_result"
    }
   ],
   "source": [
    "# Your code here\n",
    "data_top3 = data[data.gender==\"Male\"] \n",
    "\n",
    "data_top3[\"discipline\"].value_counts().head(3)\n",
    "\n"
   ]
  },
  {
   "cell_type": "markdown",
   "id": "acc430dc",
   "metadata": {},
   "source": [
    "## 10. Find the youngest and oldest medalists in the dataset.\n",
    "*Hint: Calculate the difference between `medal_date` and `birth_date`, then use `min()` and `max()`.*"
   ]
  },
  {
   "cell_type": "code",
   "execution_count": null,
   "id": "f883224a",
   "metadata": {},
   "outputs": [],
   "source": [
    "# Your code here\n",
    "data['age'] = data[\"medal_date\"].dt.year - data[\"birth_date\"].dt.year \n",
    "\n",
    "#data.sample()\n",
    "\n",
    "\n"
   ]
  },
  {
   "cell_type": "code",
   "execution_count": 18,
   "id": "8f349df5-e0f4-4c66-bf66-46923d6d0347",
   "metadata": {},
   "outputs": [
    {
     "data": {
      "text/html": [
       "<div>\n",
       "<style scoped>\n",
       "    .dataframe tbody tr th:only-of-type {\n",
       "        vertical-align: middle;\n",
       "    }\n",
       "\n",
       "    .dataframe tbody tr th {\n",
       "        vertical-align: top;\n",
       "    }\n",
       "\n",
       "    .dataframe thead th {\n",
       "        text-align: right;\n",
       "    }\n",
       "</style>\n",
       "<table border=\"1\" class=\"dataframe\">\n",
       "  <thead>\n",
       "    <tr style=\"text-align: right;\">\n",
       "      <th></th>\n",
       "      <th>medal_date</th>\n",
       "      <th>medal_type</th>\n",
       "      <th>medal_code</th>\n",
       "      <th>name</th>\n",
       "      <th>gender</th>\n",
       "      <th>country_code</th>\n",
       "      <th>country</th>\n",
       "      <th>country_long</th>\n",
       "      <th>nationality_code</th>\n",
       "      <th>nationality</th>\n",
       "      <th>...</th>\n",
       "      <th>team_gender</th>\n",
       "      <th>discipline</th>\n",
       "      <th>event</th>\n",
       "      <th>event_type</th>\n",
       "      <th>url_event</th>\n",
       "      <th>birth_date</th>\n",
       "      <th>code_athlete</th>\n",
       "      <th>code_team</th>\n",
       "      <th>is_medallist</th>\n",
       "      <th>age</th>\n",
       "    </tr>\n",
       "  </thead>\n",
       "  <tbody>\n",
       "    <tr>\n",
       "      <th>2063</th>\n",
       "      <td>2024-08-10</td>\n",
       "      <td>Bronze Medal</td>\n",
       "      <td>3.0</td>\n",
       "      <td>IVERSEN Rikke</td>\n",
       "      <td>Female</td>\n",
       "      <td>DEN</td>\n",
       "      <td>Denmark</td>\n",
       "      <td>Denmark</td>\n",
       "      <td>DEN</td>\n",
       "      <td>Denmark</td>\n",
       "      <td>...</td>\n",
       "      <td>W</td>\n",
       "      <td>Handball</td>\n",
       "      <td>Women</td>\n",
       "      <td>HTEAM</td>\n",
       "      <td>/en/paris-2024/results/handball/women/fnl-0002...</td>\n",
       "      <td>1993-05-18</td>\n",
       "      <td>1895226</td>\n",
       "      <td>HBLWTEAM7---DEN01</td>\n",
       "      <td>True</td>\n",
       "      <td>NaN</td>\n",
       "    </tr>\n",
       "  </tbody>\n",
       "</table>\n",
       "<p>1 rows × 22 columns</p>\n",
       "</div>"
      ],
      "text/plain": [
       "      medal_date    medal_type  medal_code           name  gender  \\\n",
       "2063  2024-08-10  Bronze Medal         3.0  IVERSEN Rikke  Female   \n",
       "\n",
       "     country_code  country country_long nationality_code nationality  ...  \\\n",
       "2063          DEN  Denmark      Denmark              DEN     Denmark  ...   \n",
       "\n",
       "     team_gender discipline  event event_type  \\\n",
       "2063           W   Handball  Women      HTEAM   \n",
       "\n",
       "                                              url_event  birth_date  \\\n",
       "2063  /en/paris-2024/results/handball/women/fnl-0002...  1993-05-18   \n",
       "\n",
       "     code_athlete          code_team  is_medallist age  \n",
       "2063      1895226  HBLWTEAM7---DEN01          True NaN  \n",
       "\n",
       "[1 rows x 22 columns]"
      ]
     },
     "execution_count": 18,
     "metadata": {},
     "output_type": "execute_result"
    }
   ],
   "source": [
    "data.sample()"
   ]
  },
  {
   "cell_type": "code",
   "execution_count": 24,
   "id": "96e231ad-e13a-4710-9e0d-70838f241f25",
   "metadata": {},
   "outputs": [
    {
     "data": {
      "text/plain": [
       "14.0"
      ]
     },
     "execution_count": 24,
     "metadata": {},
     "output_type": "execute_result"
    }
   ],
   "source": [
    "data['age'].min()"
   ]
  },
  {
   "cell_type": "code",
   "execution_count": 25,
   "id": "ccf02ae5-96c3-4a5d-b82a-0a19293b3e05",
   "metadata": {},
   "outputs": [
    {
     "data": {
      "text/plain": [
       "55.0"
      ]
     },
     "execution_count": 25,
     "metadata": {},
     "output_type": "execute_result"
    }
   ],
   "source": [
    "data['age'].max()"
   ]
  },
  {
   "cell_type": "code",
   "execution_count": null,
   "id": "2ed9d5e7-0986-4d0a-a1ad-2d40d7125ec5",
   "metadata": {},
   "outputs": [],
   "source": []
  }
 ],
 "metadata": {
  "kernelspec": {
   "display_name": "Python 3 (ipykernel)",
   "language": "python",
   "name": "python3"
  },
  "language_info": {
   "codemirror_mode": {
    "name": "ipython",
    "version": 3
   },
   "file_extension": ".py",
   "mimetype": "text/x-python",
   "name": "python",
   "nbconvert_exporter": "python",
   "pygments_lexer": "ipython3",
   "version": "3.11.5"
  }
 },
 "nbformat": 4,
 "nbformat_minor": 5
}
